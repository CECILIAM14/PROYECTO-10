{
 "cells": [
  {
   "cell_type": "markdown",
   "metadata": {},
   "source": [
    "## PROYECTO SPRINT 10\n",
    "---"
   ]
  },
  {
   "cell_type": "markdown",
   "metadata": {},
   "source": [
    "### 1. Descripción del proyecto \n",
    "Se ha decidido abrir un pequeño café regentado por robots en Los Ángeles. El proyecto es prometedor pero caro, asi que se decide intentar atraer inversionistas que están interesados en las condiciones actuales del mercado.\n",
    "\n",
    "A través de un estudio de mercado con los datos procedentes de fuentes abiertas sobre restaurantes en LA."
   ]
  },
  {
   "cell_type": "markdown",
   "metadata": {},
   "source": [
    "---\n",
    "### 2. Carga de dataset y procesamiento de datos "
   ]
  },
  {
   "cell_type": "code",
   "execution_count": 9,
   "metadata": {},
   "outputs": [],
   "source": [
    "# Importación de librerías neceserarias\n",
    "import pandas as pd\n",
    "import seaborn as sns\n",
    "import numpy as np\n",
    "from datetime import datetime\n",
    "from matplotlib import pyplot as plt"
   ]
  },
  {
   "cell_type": "code",
   "execution_count": 10,
   "metadata": {},
   "outputs": [],
   "source": [
    "#Asignación de variable al dataset\n",
    "rest_data = pd.read_csv('rest_data_us_upd.csv')"
   ]
  },
  {
   "cell_type": "code",
   "execution_count": 36,
   "metadata": {},
   "outputs": [
    {
     "name": "stdout",
     "output_type": "stream",
     "text": [
      "<class 'pandas.core.frame.DataFrame'>\n",
      "RangeIndex: 9651 entries, 0 to 9650\n",
      "Data columns (total 6 columns):\n",
      " #   Column       Non-Null Count  Dtype \n",
      "---  ------       --------------  ----- \n",
      " 0   id           9651 non-null   int64 \n",
      " 1   object_name  9651 non-null   object\n",
      " 2   address      9651 non-null   object\n",
      " 3   chain        9648 non-null   object\n",
      " 4   object_type  9651 non-null   object\n",
      " 5   number       9651 non-null   int64 \n",
      "dtypes: int64(2), object(4)\n",
      "memory usage: 452.5+ KB\n"
     ]
    },
    {
     "data": {
      "text/html": [
       "<div>\n",
       "<style scoped>\n",
       "    .dataframe tbody tr th:only-of-type {\n",
       "        vertical-align: middle;\n",
       "    }\n",
       "\n",
       "    .dataframe tbody tr th {\n",
       "        vertical-align: top;\n",
       "    }\n",
       "\n",
       "    .dataframe thead th {\n",
       "        text-align: right;\n",
       "    }\n",
       "</style>\n",
       "<table border=\"1\" class=\"dataframe\">\n",
       "  <thead>\n",
       "    <tr style=\"text-align: right;\">\n",
       "      <th></th>\n",
       "      <th>id</th>\n",
       "      <th>object_name</th>\n",
       "      <th>address</th>\n",
       "      <th>chain</th>\n",
       "      <th>object_type</th>\n",
       "      <th>number</th>\n",
       "    </tr>\n",
       "  </thead>\n",
       "  <tbody>\n",
       "    <tr>\n",
       "      <th>7211</th>\n",
       "      <td>18997</td>\n",
       "      <td>DOMINOS PIZZA</td>\n",
       "      <td>3309 W PICO BLVD</td>\n",
       "      <td>True</td>\n",
       "      <td>Pizza</td>\n",
       "      <td>2</td>\n",
       "    </tr>\n",
       "    <tr>\n",
       "      <th>6879</th>\n",
       "      <td>18665</td>\n",
       "      <td>BEYLUL RESTAURANT</td>\n",
       "      <td>5477 W ADAMS BLVD</td>\n",
       "      <td>True</td>\n",
       "      <td>Restaurant</td>\n",
       "      <td>90</td>\n",
       "    </tr>\n",
       "    <tr>\n",
       "      <th>5751</th>\n",
       "      <td>17537</td>\n",
       "      <td>TEDDY'S BAR</td>\n",
       "      <td>7000 HOLLYWOOD BLVD</td>\n",
       "      <td>False</td>\n",
       "      <td>Bar</td>\n",
       "      <td>153</td>\n",
       "    </tr>\n",
       "    <tr>\n",
       "      <th>104</th>\n",
       "      <td>11890</td>\n",
       "      <td>BARNEY'S BEANERY</td>\n",
       "      <td>200 WORLD WAY 240</td>\n",
       "      <td>False</td>\n",
       "      <td>Bar</td>\n",
       "      <td>75</td>\n",
       "    </tr>\n",
       "    <tr>\n",
       "      <th>745</th>\n",
       "      <td>12531</td>\n",
       "      <td>LOS ANGELES NEW YORK PIZZA</td>\n",
       "      <td>518 W 6TH ST</td>\n",
       "      <td>False</td>\n",
       "      <td>Pizza</td>\n",
       "      <td>34</td>\n",
       "    </tr>\n",
       "    <tr>\n",
       "      <th>6830</th>\n",
       "      <td>18616</td>\n",
       "      <td>CRENSHAW LIVE SUPPER CLUB</td>\n",
       "      <td>3888 CRENSHAW BLVD</td>\n",
       "      <td>False</td>\n",
       "      <td>Restaurant</td>\n",
       "      <td>215</td>\n",
       "    </tr>\n",
       "    <tr>\n",
       "      <th>432</th>\n",
       "      <td>12218</td>\n",
       "      <td>W HOTEL LOS ANGELES/WESTWOOD</td>\n",
       "      <td>930 HILGARD AVE</td>\n",
       "      <td>False</td>\n",
       "      <td>Restaurant</td>\n",
       "      <td>49</td>\n",
       "    </tr>\n",
       "    <tr>\n",
       "      <th>5170</th>\n",
       "      <td>16956</td>\n",
       "      <td>SUGAR FACTORY CONCESSION &amp; CANDY STORE</td>\n",
       "      <td>6925 hollywood BLVD</td>\n",
       "      <td>False</td>\n",
       "      <td>Restaurant</td>\n",
       "      <td>5</td>\n",
       "    </tr>\n",
       "    <tr>\n",
       "      <th>721</th>\n",
       "      <td>12507</td>\n",
       "      <td>TWO BOOTS PIZZA</td>\n",
       "      <td>828 S BROADWAY</td>\n",
       "      <td>False</td>\n",
       "      <td>Pizza</td>\n",
       "      <td>19</td>\n",
       "    </tr>\n",
       "    <tr>\n",
       "      <th>6860</th>\n",
       "      <td>18646</td>\n",
       "      <td>LITTLE ONGPIN FAST FOOD</td>\n",
       "      <td>1700 BEVERLY BLVD</td>\n",
       "      <td>True</td>\n",
       "      <td>Restaurant</td>\n",
       "      <td>26</td>\n",
       "    </tr>\n",
       "  </tbody>\n",
       "</table>\n",
       "</div>"
      ],
      "text/plain": [
       "         id                             object_name              address  \\\n",
       "7211  18997                           DOMINOS PIZZA     3309 W PICO BLVD   \n",
       "6879  18665                       BEYLUL RESTAURANT    5477 W ADAMS BLVD   \n",
       "5751  17537                             TEDDY'S BAR  7000 HOLLYWOOD BLVD   \n",
       "104   11890                        BARNEY'S BEANERY    200 WORLD WAY 240   \n",
       "745   12531              LOS ANGELES NEW YORK PIZZA         518 W 6TH ST   \n",
       "6830  18616               CRENSHAW LIVE SUPPER CLUB   3888 CRENSHAW BLVD   \n",
       "432   12218            W HOTEL LOS ANGELES/WESTWOOD      930 HILGARD AVE   \n",
       "5170  16956  SUGAR FACTORY CONCESSION & CANDY STORE  6925 hollywood BLVD   \n",
       "721   12507                         TWO BOOTS PIZZA       828 S BROADWAY   \n",
       "6860  18646                 LITTLE ONGPIN FAST FOOD    1700 BEVERLY BLVD   \n",
       "\n",
       "      chain object_type  number  \n",
       "7211   True       Pizza       2  \n",
       "6879   True  Restaurant      90  \n",
       "5751  False         Bar     153  \n",
       "104   False         Bar      75  \n",
       "745   False       Pizza      34  \n",
       "6830  False  Restaurant     215  \n",
       "432   False  Restaurant      49  \n",
       "5170  False  Restaurant       5  \n",
       "721   False       Pizza      19  \n",
       "6860   True  Restaurant      26  "
      ]
     },
     "execution_count": 36,
     "metadata": {},
     "output_type": "execute_result"
    }
   ],
   "source": [
    "#Visualización de la información del dataset\n",
    "rest_data.info()\n",
    "rest_data.sample(10)"
   ]
  },
  {
   "cell_type": "markdown",
   "metadata": {},
   "source": [
    "Al analizar el dataset, tanto a través de la visualización de su información como de una muestra representativa, podemos identificar el tipo de datos de cada columna y detectar la presencia de valores ausentes.\n",
    "\n",
    "En el caso particular de la columna 'chain', observamos que, presenta una baja cantidad de valores ausentes y el tipo de dato asignado no es el adecuado.\n",
    "\n",
    "Por lo tanto, se procederá a realizar las modificaciones necesarias para garantizar la correcta manipulación y análisis de la información contenida en esta columna "
   ]
  },
  {
   "cell_type": "code",
   "execution_count": 15,
   "metadata": {},
   "outputs": [
    {
     "data": {
      "text/html": [
       "<div>\n",
       "<style scoped>\n",
       "    .dataframe tbody tr th:only-of-type {\n",
       "        vertical-align: middle;\n",
       "    }\n",
       "\n",
       "    .dataframe tbody tr th {\n",
       "        vertical-align: top;\n",
       "    }\n",
       "\n",
       "    .dataframe thead th {\n",
       "        text-align: right;\n",
       "    }\n",
       "</style>\n",
       "<table border=\"1\" class=\"dataframe\">\n",
       "  <thead>\n",
       "    <tr style=\"text-align: right;\">\n",
       "      <th></th>\n",
       "      <th>id</th>\n",
       "      <th>object_name</th>\n",
       "      <th>address</th>\n",
       "      <th>chain</th>\n",
       "      <th>object_type</th>\n",
       "      <th>number</th>\n",
       "    </tr>\n",
       "  </thead>\n",
       "  <tbody>\n",
       "    <tr>\n",
       "      <th>7408</th>\n",
       "      <td>19194</td>\n",
       "      <td>TAQUERIA LOS 3 CARNALES</td>\n",
       "      <td>5000 E WHITTIER BLVD</td>\n",
       "      <td>NaN</td>\n",
       "      <td>Restaurant</td>\n",
       "      <td>14</td>\n",
       "    </tr>\n",
       "    <tr>\n",
       "      <th>7523</th>\n",
       "      <td>19309</td>\n",
       "      <td>JAMMIN JIMMY'S PIZZA</td>\n",
       "      <td>1641 FIRESTONE BLVD</td>\n",
       "      <td>NaN</td>\n",
       "      <td>Pizza</td>\n",
       "      <td>1</td>\n",
       "    </tr>\n",
       "    <tr>\n",
       "      <th>8648</th>\n",
       "      <td>20434</td>\n",
       "      <td>THE LEXINGTON THEATER</td>\n",
       "      <td>129 E 3RD ST</td>\n",
       "      <td>NaN</td>\n",
       "      <td>Restaurant</td>\n",
       "      <td>35</td>\n",
       "    </tr>\n",
       "  </tbody>\n",
       "</table>\n",
       "</div>"
      ],
      "text/plain": [
       "         id              object_name               address chain object_type  \\\n",
       "7408  19194  TAQUERIA LOS 3 CARNALES  5000 E WHITTIER BLVD   NaN  Restaurant   \n",
       "7523  19309     JAMMIN JIMMY'S PIZZA   1641 FIRESTONE BLVD   NaN       Pizza   \n",
       "8648  20434    THE LEXINGTON THEATER          129 E 3RD ST   NaN  Restaurant   \n",
       "\n",
       "      number  \n",
       "7408      14  \n",
       "7523       1  \n",
       "8648      35  "
      ]
     },
     "execution_count": 15,
     "metadata": {},
     "output_type": "execute_result"
    }
   ],
   "source": [
    "#Encontrar valores ausentes en la columna 'chain'\n",
    "missing_values = rest_data['chain'].isnull()\n",
    "rows_with_missing_values = rest_data[missing_values]\n",
    "rows_with_missing_values"
   ]
  },
  {
   "cell_type": "code",
   "execution_count": 42,
   "metadata": {},
   "outputs": [
    {
     "data": {
      "text/plain": [
       "id                       12507\n",
       "object_name    TWO BOOTS PIZZA\n",
       "address         828 S BROADWAY\n",
       "chain                    False\n",
       "object_type              Pizza\n",
       "number                      19\n",
       "dtype: object"
      ]
     },
     "execution_count": 42,
     "metadata": {},
     "output_type": "execute_result"
    }
   ],
   "source": [
    "filtered_data= rest_data[rest_data['object_name']== \"TWO BOOTS PIZZA\" ].sum()\n",
    "filtered_data"
   ]
  },
  {
   "cell_type": "code",
   "execution_count": 5,
   "metadata": {},
   "outputs": [
    {
     "name": "stdout",
     "output_type": "stream",
     "text": [
      "<class 'pandas.core.frame.DataFrame'>\n",
      "RangeIndex: 9651 entries, 0 to 9650\n",
      "Data columns (total 6 columns):\n",
      " #   Column       Non-Null Count  Dtype \n",
      "---  ------       --------------  ----- \n",
      " 0   id           9651 non-null   int64 \n",
      " 1   object_name  9651 non-null   object\n",
      " 2   address      9651 non-null   object\n",
      " 3   chain        9651 non-null   bool  \n",
      " 4   object_type  9651 non-null   object\n",
      " 5   number       9651 non-null   int64 \n",
      "dtypes: bool(1), int64(2), object(3)\n",
      "memory usage: 386.5+ KB\n"
     ]
    }
   ],
   "source": [
    "# Cambio de tipo de dato en la columna 'chain'\n",
    "rest_data['chain'] = rest_data['chain'].astype(bool)\n",
    "\n",
    "rest_data.info()"
   ]
  },
  {
   "cell_type": "markdown",
   "metadata": {},
   "source": [
    "Con los cambios "
   ]
  }
 ],
 "metadata": {
  "kernelspec": {
   "display_name": "Python 3",
   "language": "python",
   "name": "python3"
  },
  "language_info": {
   "codemirror_mode": {
    "name": "ipython",
    "version": 3
   },
   "file_extension": ".py",
   "mimetype": "text/x-python",
   "name": "python",
   "nbconvert_exporter": "python",
   "pygments_lexer": "ipython3",
   "version": "3.12.4"
  }
 },
 "nbformat": 4,
 "nbformat_minor": 2
}
